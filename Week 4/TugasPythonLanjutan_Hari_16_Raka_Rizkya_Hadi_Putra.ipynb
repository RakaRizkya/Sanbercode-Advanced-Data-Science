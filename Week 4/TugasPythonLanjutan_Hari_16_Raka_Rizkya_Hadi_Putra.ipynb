{
  "nbformat": 4,
  "nbformat_minor": 0,
  "metadata": {
    "colab": {
      "name": "TugasPythonLanjutan_Hari_16_Raka_Rizkya_Hadi_Putra",
      "provenance": [],
      "collapsed_sections": []
    },
    "kernelspec": {
      "name": "python3",
      "display_name": "Python 3"
    }
  },
  "cells": [
    {
      "cell_type": "markdown",
      "metadata": {
        "id": "JVhEjc19F3-L",
        "colab_type": "text"
      },
      "source": [
        "Membuat model SVM Classifier dengan data Pokemon\n",
        "---"
      ]
    },
    {
      "cell_type": "code",
      "metadata": {
        "id": "jBwVtpvsNO2M",
        "colab_type": "code",
        "colab": {}
      },
      "source": [
        "# Import library yang dibutuhkan\n",
        "import pandas as pd\n",
        "import numpy as np\n",
        "import csv\n",
        "from sklearn import svm\n",
        "from sklearn.model_selection import train_test_split\n",
        "from sklearn.metrics import classification_report"
      ],
      "execution_count": 10,
      "outputs": []
    },
    {
      "cell_type": "code",
      "metadata": {
        "id": "HP0qYKISQKuu",
        "colab_type": "code",
        "colab": {}
      },
      "source": [
        "# Memuat dataset ke dalam dataframe\n",
        "dataset = pd.read_csv ('pokemon.csv')\n",
        "dataset"
      ],
      "execution_count": 2,
      "outputs": []
    },
    {
      "cell_type": "code",
      "metadata": {
        "id": "v6LKBo7IQPbq",
        "colab_type": "code",
        "colab": {
          "base_uri": "https://localhost:8080/",
          "height": 459
        },
        "outputId": "f4490bb1-1e32-477e-caa8-4a74e3d264b1"
      },
      "source": [
        "# Memisahkan fitur dengan label\n",
        "set_data = dataset.iloc [:, 4:10]\n",
        "kluster_data = dataset.iloc [:,12] \n",
        "\n",
        "# Menampilkan fitur dan label\n",
        "print(set_data)\n",
        "print (kluster_data)"
      ],
      "execution_count": 4,
      "outputs": [
        {
          "output_type": "stream",
          "text": [
            "     HP  Attack  Defense  Sp. Atk  Sp. Def  Speed\n",
            "0    45      49       49       65       65     45\n",
            "1    60      62       63       80       80     60\n",
            "2    80      82       83      100      100     80\n",
            "3    80     100      123      122      120     80\n",
            "4    39      52       43       60       50     65\n",
            "..   ..     ...      ...      ...      ...    ...\n",
            "979  61     123       60       60       50    136\n",
            "980  40      38       35       54       35     40\n",
            "981  75      98       70      114       70     75\n",
            "982  75      98       70      114       70     75\n",
            "983  50      65       45       50       50     45\n",
            "\n",
            "[984 rows x 6 columns]\n",
            "0      0\n",
            "1      0\n",
            "2      1\n",
            "3      1\n",
            "4      0\n",
            "      ..\n",
            "979    2\n",
            "980    0\n",
            "981    2\n",
            "982    2\n",
            "983    0\n",
            "Name: kluster, Length: 984, dtype: int64\n"
          ],
          "name": "stdout"
        }
      ]
    },
    {
      "cell_type": "code",
      "metadata": {
        "id": "3sF50OAUEXyv",
        "colab_type": "code",
        "colab": {}
      },
      "source": [
        "# Membagi data training dan data test\n",
        "x_train, x_test, y_train, y_test = train_test_split(set_data, kluster_data, test_size=0.25,random_state=150)"
      ],
      "execution_count": 7,
      "outputs": []
    },
    {
      "cell_type": "code",
      "metadata": {
        "id": "JnZh197YEwRG",
        "colab_type": "code",
        "colab": {}
      },
      "source": [
        "# Membuat SVM Classifier dengan Linear Kernel\n",
        "model_s = svm.SVC(kernel='linear')\n",
        "model_s.fit(x_train, y_train)\n",
        "y_pred = model_s.predict(x_test)"
      ],
      "execution_count": 8,
      "outputs": []
    },
    {
      "cell_type": "code",
      "metadata": {
        "id": "D2ZM40-uFGAB",
        "colab_type": "code",
        "colab": {
          "base_uri": "https://localhost:8080/",
          "height": 187
        },
        "outputId": "903cc3ff-3e97-4938-9834-feb5c9f3a768"
      },
      "source": [
        "# Melihat performa model dengan classification report\n",
        "print(classification_report(y_test, y_pred))"
      ],
      "execution_count": 11,
      "outputs": [
        {
          "output_type": "stream",
          "text": [
            "              precision    recall  f1-score   support\n",
            "\n",
            "           0       0.99      0.98      0.98       134\n",
            "           1       0.98      1.00      0.99        50\n",
            "           2       0.97      0.98      0.98        62\n",
            "\n",
            "    accuracy                           0.98       246\n",
            "   macro avg       0.98      0.99      0.98       246\n",
            "weighted avg       0.98      0.98      0.98       246\n",
            "\n"
          ],
          "name": "stdout"
        }
      ]
    },
    {
      "cell_type": "code",
      "metadata": {
        "id": "F8QfphkfFX7f",
        "colab_type": "code",
        "colab": {
          "base_uri": "https://localhost:8080/",
          "height": 34
        },
        "outputId": "c4280172-9030-42a5-fd9d-f012c479645f"
      },
      "source": [
        "# Menguji model dengan memasukkan data baru\n",
        "hp = 100\n",
        "a = 90\n",
        "d =  95\n",
        "sa = 90\n",
        "sd = 90\n",
        "s = 90\n",
        "\n",
        "prediksi = model_s.predict([[hp,a,d,sa,sd,s]])\n",
        "print('pokemon ini termasuk ke dalam kelompok kluster ' + str(prediksi))"
      ],
      "execution_count": 42,
      "outputs": [
        {
          "output_type": "stream",
          "text": [
            "pokemon ini termasuk ke dalam kelompok kluster [1]\n"
          ],
          "name": "stdout"
        }
      ]
    },
    {
      "cell_type": "markdown",
      "metadata": {
        "id": "fraEw9dIGELB",
        "colab_type": "text"
      },
      "source": [
        "Membuat model KNN Classifier dengan data Pokemon\n",
        "---"
      ]
    },
    {
      "cell_type": "code",
      "metadata": {
        "id": "ZMbh7ynYGOfA",
        "colab_type": "code",
        "colab": {}
      },
      "source": [
        "# Import library yang dibutuhkan\n",
        "import pandas as pd\n",
        "import csv\n",
        "from sklearn.neighbors import KNeighborsClassifier\n",
        "from sklearn.model_selection import train_test_split\n",
        "from sklearn.metrics import classification_report"
      ],
      "execution_count": 24,
      "outputs": []
    },
    {
      "cell_type": "code",
      "metadata": {
        "id": "vDiVLUkxG0gY",
        "colab_type": "code",
        "colab": {}
      },
      "source": [
        "# Membagi data train dan data test dengan data test sebesar 25%\n",
        "x_train, x_test, y_train, y_test = train_test_split(set_data, kluster_data, test_size=0.25,random_state=150)"
      ],
      "execution_count": 22,
      "outputs": []
    },
    {
      "cell_type": "code",
      "metadata": {
        "id": "IbmhxAznHEHL",
        "colab_type": "code",
        "colab": {}
      },
      "source": [
        "# Membuat model KNN classifier dengan jumlah neighbor 1\n",
        "model_k = KNeighborsClassifier(n_neighbors=1)\n",
        "model_k.fit(x_train, y_train)\n",
        "y_pred = model_k.predict(x_test)"
      ],
      "execution_count": 23,
      "outputs": []
    },
    {
      "cell_type": "code",
      "metadata": {
        "id": "qDMUhvi8HRO7",
        "colab_type": "code",
        "colab": {
          "base_uri": "https://localhost:8080/",
          "height": 187
        },
        "outputId": "2d4a3a9b-62ca-4f04-8e6b-cdf80fa0328a"
      },
      "source": [
        "# Melihat performa model dengan classification report\n",
        "print(classification_report(y_test, y_pred))"
      ],
      "execution_count": 25,
      "outputs": [
        {
          "output_type": "stream",
          "text": [
            "              precision    recall  f1-score   support\n",
            "\n",
            "           0       0.93      0.96      0.94       134\n",
            "           1       0.93      0.80      0.86        50\n",
            "           2       0.83      0.89      0.86        62\n",
            "\n",
            "    accuracy                           0.91       246\n",
            "   macro avg       0.90      0.88      0.89       246\n",
            "weighted avg       0.91      0.91      0.91       246\n",
            "\n"
          ],
          "name": "stdout"
        }
      ]
    },
    {
      "cell_type": "markdown",
      "metadata": {
        "id": "MsjKdq7DHonX",
        "colab_type": "text"
      },
      "source": [
        "Menentukan Nilai K untuk model KNN\n",
        "---"
      ]
    },
    {
      "cell_type": "code",
      "metadata": {
        "id": "h-mfa-87HswV",
        "colab_type": "code",
        "colab": {}
      },
      "source": [
        "# Import library yang dibutuhkan\n",
        "import numpy as np\n",
        "import matplotlib.pyplot as plt"
      ],
      "execution_count": 26,
      "outputs": []
    },
    {
      "cell_type": "code",
      "metadata": {
        "id": "JI9OzzHZH3bA",
        "colab_type": "code",
        "colab": {
          "base_uri": "https://localhost:8080/",
          "height": 513
        },
        "outputId": "410aecbe-be2d-4801-84ea-95227f29f4c7"
      },
      "source": [
        "# Membuat list untuk memuat error model dari K=1 sampai K=50\n",
        "error = []\n",
        "for i in range(1, 50):\n",
        "    model_k = KNeighborsClassifier(n_neighbors=i)\n",
        "    model_k.fit(x_train, y_train)\n",
        "    y_pred = model_k.predict(x_test)\n",
        "    error.append(np.mean(y_pred != y_test))\n",
        "\n",
        "# Membuat plot dengan list 'error'\n",
        "plt.figure(1, figsize=(14, 8))  \n",
        "plt.plot(range(1, 50), error, color='red', marker='o', markersize=5)\n",
        "plt.title('Error pada nilai K')  \n",
        "plt.xlabel('K')  \n",
        "plt.ylabel('Error rata-rata')\n",
        "plt.show()"
      ],
      "execution_count": 43,
      "outputs": [
        {
          "output_type": "display_data",
          "data": {
            "image/png": "[encoded data removed]",
            "text/plain": [
              "<Figure size 1008x576 with 1 Axes>"
            ]
          },
          "metadata": {
            "tags": [],
            "needs_background": "light"
          }
        }
      ]
    }
  ]
}